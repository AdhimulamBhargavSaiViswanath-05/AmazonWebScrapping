{
  "cells": [
    {
      "cell_type": "markdown",
      "metadata": {
        "id": "ntztq-RlEC8f"
      },
      "source": [
        "# Installing Necessary Libraries"
      ]
    },
    {
      "cell_type": "markdown",
      "metadata": {
        "id": "oYrOXTRpEJ79"
      },
      "source": [
        "## pip install ipywidgets ipython requests beautifulsoup4 pandas matplotlib seaborn numpy"
      ]
    },
    {
      "cell_type": "markdown",
      "metadata": {
        "id": "hNfyDYS2EQ1O"
      },
      "source": [
        "## csv, time, random, and math are standard Python libraries, so you don't need to install them via pip. You can safely omit them from the installation command."
      ]
    },
    {
      "cell_type": "markdown",
      "metadata": {
        "id": "ySH_Xv61p1Pd"
      },
      "source": [
        "# Importing Libraries"
      ]
    },
    {
      "cell_type": "code",
      "execution_count": null,
      "metadata": {
        "colab": {
          "background_save": true
        },
        "id": "blJDxwM4mrKy"
      },
      "outputs": [],
      "source": [
        "import ipywidgets as widgets             # ipywidgets provides interactive widgets for Jupyter notebooks\n",
        "from IPython.display import display       # display from IPython is used to show widgets and other elements in Jupyter notebooks\n",
        "import requests                           # requests library allows sending HTTP requests to fetch web data\n",
        "from bs4 import BeautifulSoup             # BeautifulSoup is used to parse HTML content for web scraping\n",
        "import csv                                # csv library is used for reading and writing CSV files\n",
        "import time                               # time library for adding delays between requests to avoid getting blocked\n",
        "import random                             # random library for generating random numbers, useful for setting random delays\n",
        "import pandas as pd                       # pandas is a powerful library for data manipulation and analysis\n",
        "import matplotlib.pyplot as plt           # matplotlib is used for creating static, animated, and interactive visualizations\n",
        "import seaborn as sns                     # seaborn is a data visualization library based on matplotlib with a focus on statistical plots\n",
        "import math                               # math library provides mathematical functions and constants\n",
        "import numpy as np                        # numpy is a library for handling arrays and numerical data operations"
      ]
    },
    {
      "cell_type": "markdown",
      "metadata": {
        "id": "EPkuqdIFp8NK"
      },
      "source": [
        "# Define the category options"
      ]
    },
    {
      "cell_type": "code",
      "execution_count": null,
      "metadata": {
        "id": "UAW-PCZalTUQ"
      },
      "outputs": [],
      "source": [
        "# Define the category options for a dropdown or selection widget\n",
        "categories = [\n",
        "    \"--Select Category--\",                         # Default option for users to prompt a category selection\n",
        "    \"Electronics - Smartphones\",                   # Option for selecting smartphones under Electronics\n",
        "    \"Cosmetics - Moisturizing Face Cream\",         # Option for selecting moisturizing face cream under Cosmetics\n",
        "    \"Health & Beauty - Organic Shampoos for Dry Hair\",  # Option for selecting organic shampoos for dry hair under Health & Beauty\n",
        "    \"Computers & Accessories - Laptops\",           # Option for selecting laptops under Computers & Accessories\n",
        "    \"Home & Kitchen - Non-Stick Pans\"              # Option for selecting non-stick pans under Home & Kitchen\n",
        "]\n"
      ]
    },
    {
      "cell_type": "markdown",
      "metadata": {
        "id": "5exI9LFdp-1I"
      },
      "source": [
        "# Defining The URL (Uniform Resource Locator)"
      ]
    },
    {
      "cell_type": "code",
      "execution_count": null,
      "metadata": {
        "id": "PUUI727V-94t"
      },
      "outputs": [],
      "source": [
        "# Defining the URLs corresponding to each category in the categories list\n",
        "urls = [\n",
        "    \"#\",  # Placeholder URL, can be replaced with a valid URL if needed\n",
        "    \"https://www.amazon.in/s?k=smartphones&ref=nb_sb_noss\",  # URL for Electronics - Smartphones\n",
        "    \"https://www.amazon.in/s?k=moisturizing+face+cream&ref=nb_sb_noss\",  # URL for Cosmetics - Moisturizing Face Cream\n",
        "    \"https://www.amazon.in/s?k=organic+shampoo+for+dry+hair&ref=nb_sb_noss\",  # URL for Health & Beauty - Organic Shampoos for Dry Hair\n",
        "    \"https://www.amazon.in/s?k=laptops&ref=nb_sb_noss\",  # URL for Computers & Accessories - Laptops\n",
        "    \"https://www.amazon.in/s?k=non-stick+pans&ref=nb_sb_noss\"  # URL for Home & Kitchen - Non-Stick Pans\n",
        "]\n"
      ]
    },
    {
      "cell_type": "markdown",
      "metadata": {
        "id": "gqkEmlBtqEMQ"
      },
      "source": [
        "# Create a dropdown for category selection"
      ]
    },
    {
      "cell_type": "code",
      "execution_count": null,
      "metadata": {
        "id": "sq_FKFwX_AyT"
      },
      "outputs": [],
      "source": [
        "# Create a dropdown widget for selecting a category from the available options\n",
        "category_dropdown = widgets.Dropdown(\n",
        "    options=categories,               # Populate the dropdown with the categories list\n",
        "    description=\"Category:\",          # Label for the dropdown widget\n",
        "    disabled=False,                   # Allow the dropdown to be interactive (not disabled)\n",
        ")\n",
        "\n",
        "# Shared state to keep track of the selected URL based on the chosen category\n",
        "state = {'selected_url': None}\n",
        "\n",
        "# Function to handle category selection changes and update the state\n",
        "def on_category_change(change):\n",
        "    chosen_category = change['new']    # Get the new category selected by the user\n",
        "    choice_index = categories.index(chosen_category)   # Find the index of the selected category\n",
        "\n",
        "    # Update the shared state with the corresponding URL based on the selected category\n",
        "    state['selected_url'] = urls[choice_index]\n",
        "\n",
        "    # Print the selected category and its corresponding URL\n",
        "    print(f\"You selected: {chosen_category}\")\n",
        "    print(f\"Your chosen category URL is: {state['selected_url']}\")\n",
        "\n",
        "# Attach the function to the category dropdown so it triggers when the value changes\n",
        "category_dropdown.observe(on_category_change, names='value')\n",
        "\n",
        "# Display the dropdown widget to the user\n",
        "display(category_dropdown)\n"
      ]
    },
    {
      "cell_type": "markdown",
      "metadata": {
        "id": "9caCulujqKGj"
      },
      "source": [
        "# Start the scraping process after URL selection"
      ]
    },
    {
      "cell_type": "code",
      "execution_count": null,
      "metadata": {
        "id": "KEq1U-j3_LSq"
      },
      "outputs": [],
      "source": [
        "# Exponential backoff with jitter (randomization) to avoid overwhelming the server\n",
        "def wait_retry(retry_count):\n",
        "    base_wait_time = 2 ** retry_count  # Calculate the base wait time using exponential backoff\n",
        "    random_wait_time = random.uniform(base_wait_time, base_wait_time * 2)  # Add random variation to avoid synchronized retries\n",
        "    print(f\"Retrying in {random_wait_time:.2f} seconds...\")  # Inform the user of the retry wait time\n",
        "    time.sleep(random_wait_time)  # Wait for the calculated time before retrying\n",
        "\n",
        "# Function to scrape Amazon based on the selected URL\n",
        "def scrape_amazon(selected_url, max_retries=5):  # Allow up to 5 retries for the request\n",
        "    retry_count = 0  # Initialize retry counter\n",
        "\n",
        "    # Loop to retry the request if it fails, up to max_retries\n",
        "    while retry_count < max_retries:\n",
        "        try:\n",
        "            # Define HTTP headers to mimic a real browser request\n",
        "            headers = {\n",
        "                \"User-Agent\": \"Mozilla/5.0 (Windows NT 10.0; Win64; x64) AppleWebKit/537.36 (KHTML, like Gecko) Chrome/91.0.4472.124 Safari/537.36\",\n",
        "                \"Accept-Language\": \"en-US,en;q=0.5\",\n",
        "                \"Accept-Encoding\": \"gzip, deflate, br\",\n",
        "                \"Connection\": \"keep-alive\",\n",
        "                \"Referer\": \"https://www.amazon.in/\"\n",
        "            }\n",
        "            response = requests.get(selected_url, headers=headers)  # Send GET request to the selected URL\n",
        "            response.raise_for_status()  # Raise an exception if the response status indicates an error (4xx or 5xx)\n",
        "\n",
        "            # Parse the HTML content of the page using BeautifulSoup\n",
        "            soup = BeautifulSoup(response.content, \"html.parser\")\n",
        "\n",
        "            # Function to extract and clean product title by removing extra text in parentheses\n",
        "            def extract_product_title(description):\n",
        "                return description.split('(')[0].strip()\n",
        "\n",
        "            # Function to ensure product title is between 10-20 characters; truncate if too long\n",
        "            def clean_title(title):\n",
        "                if 10 <= len(title) <= 20:\n",
        "                    return title.strip()\n",
        "                if len(title) > 20:\n",
        "                    return title[:20].strip()  # Limit title to 20 characters if it's too long\n",
        "                else:\n",
        "                    return title  # Keep original title if it's shorter than 10 characters\n",
        "\n",
        "            # Open (or create) a CSV file to store the scraped data\n",
        "            with open('amazon_products.csv', mode='w', newline='', encoding='utf-8') as file:\n",
        "                writer = csv.writer(file)\n",
        "\n",
        "                # Write the header row for the CSV file with column names\n",
        "                writer.writerow(['S.NO', 'PRODUCT NAME', 'PRODUCT ID', 'PRICE', 'RATING', 'NUMBER OF REVIEWS', 'DELIVERY DATE', 'PRODUCT DESCRIPTION'])\n",
        "\n",
        "                # Find all product listings on the page\n",
        "                products = soup.find_all('div', {'data-component-type': 's-search-result'})\n",
        "\n",
        "                # Initialize a serial number counter for each product entry\n",
        "                serial_number = 1\n",
        "\n",
        "                # Loop through each product element and extract relevant details\n",
        "                for product in products:\n",
        "                    # Extract product ID (ASIN) if available, otherwise use \"-\"\n",
        "                    product_id = product.get('data-asin', '-')\n",
        "\n",
        "                    # Extract raw product title, clean it, and limit the length if needed\n",
        "                    raw_title = product.h2.text.strip() if product.h2 else \"-\"\n",
        "                    extracted_name = extract_product_title(raw_title)\n",
        "                    name = clean_title(extracted_name)\n",
        "\n",
        "                    # Extract price if available, clean it, remove commas, or use \"0\" if unavailable\n",
        "                    price = product.find('span', 'a-price-whole')\n",
        "                    price = price.text.strip() if price else \"-\"\n",
        "                    price = price.replace(\",\", \"\") if price != \"-\" else 0  # Remove commas and convert to float\n",
        "\n",
        "                    # Extract rating if available, otherwise default to \"0\"\n",
        "                    rating = product.find('span', 'a-icon-alt')\n",
        "                    rating = rating.text.split(\" \")[0].strip() if rating else \"0\"\n",
        "\n",
        "                    # Extract number of reviews if available, otherwise default to \"0\"\n",
        "                    reviews = product.find('span', {'class': 'a-size-base'})\n",
        "                    reviews = reviews.text.strip() if reviews and reviews.text.strip().isdigit() else \"0\"\n",
        "\n",
        "                    # Extract delivery information if available, otherwise use a default message\n",
        "                    delivery = product.find('span', {'class': 'a-color-base a-text-bold'})\n",
        "                    delivery = delivery.text.strip() if delivery else \"Delivery info not available\"\n",
        "\n",
        "                    # Write the extracted product data as a new row in the CSV file\n",
        "                    writer.writerow([serial_number, name, product_id, float(price), float(rating), int(reviews), delivery, raw_title])\n",
        "\n",
        "                    # Increment the serial number for the next product entry\n",
        "                    serial_number += 1\n",
        "\n",
        "            # Load the CSV file data into a DataFrame for further processing and analysis\n",
        "            df = pd.read_csv('amazon_products.csv')\n",
        "\n",
        "            # Calculate median values for price, rating, and reviews, ignoring zero values\n",
        "            median_price = df.loc[df['PRICE'] != 0, 'PRICE'].median()\n",
        "            median_rating = df.loc[df['RATING'] != 0, 'RATING'].median()\n",
        "            median_reviews = np.ceil(df.loc[df['NUMBER OF REVIEWS'] != 0, 'NUMBER OF REVIEWS'].median())  # Round up to nearest integer\n",
        "\n",
        "            # Replace zero values in the DataFrame with the calculated median values\n",
        "            df['PRICE'] = df['PRICE'].replace(0, median_price)  # Ensure PRICE always has 2 decimal places\n",
        "            df['RATING'] = df['RATING'].replace(0, median_rating)  # Ensure RATING always has 1 decimal place\n",
        "            df['NUMBER OF REVIEWS'] = df['NUMBER OF REVIEWS'].replace(0, median_reviews).astype(int)  # Convert to integer\n",
        "\n",
        "            # Save the updated DataFrame back to the CSV file\n",
        "            df.to_csv('amazon_products.csv', index=False)\n",
        "\n",
        "            print(\"Scraping complete. Data saved to amazon_products.csv\")\n",
        "            break  # Exit the retry loop if scraping is successful\n",
        "\n",
        "        except requests.exceptions.HTTPError as http_err:\n",
        "            # Handle specific HTTP errors like 503, which indicates server unavailability\n",
        "            if response.status_code == 503:\n",
        "                print(f\"HTTP 503 error occurred: {http_err}. Retrying...\")\n",
        "            else:\n",
        "                print(f\"HTTP error occurred: {http_err}\")\n",
        "        except requests.exceptions.ConnectionError as conn_err:\n",
        "            # Handle connection errors\n",
        "            print(f\"Connection error occurred: {conn_err}\")\n",
        "        except requests.exceptions.Timeout as timeout_err:\n",
        "            # Handle timeout errors\n",
        "            print(f\"Timeout error occurred: {timeout_err}\")\n",
        "        except requests.exceptions.RequestException as req_err:\n",
        "            # Handle other general request exceptions\n",
        "            print(f\"An error occurred: {req_err}\")\n",
        "\n",
        "        retry_count += 1\n",
        "        wait_retry(retry_count)  # Wait and retry with exponential backoff after each failure\n",
        "\n",
        "    else:\n",
        "        print(\"Max retries reached, scraping failed.\")  # Report failure after reaching max retries\n",
        "\n",
        "# Trigger the scraping process only if a URL has been selected\n",
        "if 'selected_url' in state and state['selected_url']:\n",
        "    scrape_amazon(state['selected_url'])\n",
        "else:\n",
        "    print(\"No category selected. Please select a category to start scraping.\")\n"
      ]
    },
    {
      "cell_type": "markdown",
      "metadata": {
        "id": "ooaYBEB5__QO"
      },
      "source": [
        "# Displaying Scrapped Data in a Table Format Using Pandas"
      ]
    },
    {
      "cell_type": "code",
      "execution_count": null,
      "metadata": {
        "id": "hLaGhdT9m7ej"
      },
      "outputs": [],
      "source": [
        "# Read the CSV file containing the scraped Amazon product data into a Pandas DataFrame\n",
        "df = pd.read_csv('amazon_products.csv')\n",
        "\n",
        "# Format 'PRICE' and 'RATING' columns to have specific decimal places\n",
        "# Ensure 'PRICE' always has two decimal places, 'RATING' has one decimal place,\n",
        "# and 'NUMBER OF REVIEWS' is rounded to the nearest integer\n",
        "\n",
        "# Apply lambda function to format 'PRICE' to two decimal pl}aces as a string\n",
        "df['PRICE'] = df['PRICE'].apply(lambda x: f\"{x:.2f}\")\n",
        "\n",
        "# Apply lambda function to format 'RATING' to one decimal place as a string\n",
        "df['RATING'] = df['RATING'].apply(lambda x: f\"{x:.1f}\")\n",
        "\n",
        "# Round 'NUMBER OF REVIEWS' to the nearest integer and convert to integer type\n",
        "df['NUMBER OF REVIEWS'] = df['NUMBER OF REVIEWS'].round().astype(int)\n",
        "\n",
        "# Define a function to apply alternating background colors to DataFrame rows\n",
        "def highlight_alternating_rows(x):\n",
        "    # List to store style rules for each row in the DataFrame\n",
        "    styles = []\n",
        "\n",
        "    # Loop through each row in the DataFrame to apply alternating row colors\n",
        "    for i in range(len(x)):\n",
        "        if i % 2 == 0:  # Check if row index is even\n",
        "            # Apply a light green background and black text for even rows\n",
        "            styles.append('background-color: #e6f7e6; color: #000000')\n",
        "        else:  # Row index is odd\n",
        "            # Apply a slightly darker green background and black text for odd rows\n",
        "            styles.append('background-color: #ccffcc; color: #000000')\n",
        "    return styles  # Return the list of styles for the entire column\n",
        "\n",
        "# Apply custom styling to the DataFrame and store it in 'styled_df'\n",
        "\n",
        "styled_df = (\n",
        "    df.head(100000)  # Limit the DataFrame to the first 100,000 rows for styling\n",
        "    .style.apply(highlight_alternating_rows, axis=0)  # Apply alternating colors row-wise\n",
        "    .set_properties(**{'font-size': '12pt', 'font-family': 'Arial'})  # Set font size and family for all cells\n",
        "    .set_table_styles([\n",
        "        # Style table headers (th): set bold font, large font size, font family, and add a border\n",
        "        {'selector': 'th', 'props': [('font-size', '16pt'), ('font-weight', 'bold'), ('font-family', 'Cambria'), ('border', '1px solid black')]},\n",
        "\n",
        "        # Style data cells (td): add borders around each cell and center-align text\n",
        "        {'selector': 'td', 'props': [('border', '1px solid black'), ('text-align', 'center')]},\n",
        "\n",
        "        # Add an outer border around the table for visual separation\n",
        "        {'selector': 'table', 'props': [('border', '2px solid black')]}\n",
        "    ])\n",
        ")\n",
        "\n",
        "# Display the styled DataFrame within a Jupyter notebook or interactive environment\n",
        "display(styled_df)\n"
      ]
    },
    {
      "cell_type": "markdown",
      "metadata": {
        "id": "jsPBul3crAvC"
      },
      "source": [
        "# Visualization Starts"
      ]
    },
    {
      "cell_type": "markdown",
      "metadata": {
        "id": "YosswOgRrJWM"
      },
      "source": [
        "# Necessary Conditions"
      ]
    },
    {
      "cell_type": "code",
      "execution_count": null,
      "metadata": {
        "id": "4Q7CsDXz_R9D"
      },
      "outputs": [],
      "source": [
        "# Load the data from the CSV file named 'amazon_products.csv' into a DataFrame called 'data'\n",
        "data = pd.read_csv(\"amazon_products.csv\")\n",
        "\n",
        "# Calculate the total number of products scraped by finding the length of the DataFrame\n",
        "num_products = len(data)\n",
        "\n",
        "# Adjust the figure size dynamically based on the number of products scraped\n",
        "# The width is set to 'num_products * 0.9' to scale proportionally with the number of products\n",
        "# The height is set to the maximum of either 6 or 'num_products / 3.0', ensuring a minimum height of 6\n",
        "fig_size = (num_products * 0.9, max(6, num_products / 3.0))\n",
        "\n",
        "# Print a completion message indicating the number of products scraped\n",
        "print(f\"After completion of the scraping process, {num_products} products were scraped.\")\n",
        "\n",
        "# Print the adjusted figure size, which will be used for visualizations or plots\n",
        "print(f\"Figure size adjusted to: {fig_size}\")\n"
      ]
    },
    {
      "cell_type": "markdown",
      "metadata": {
        "id": "sReMxQ7LrOVP"
      },
      "source": [
        "# Representing Visualization \"Product Vs Price Distribution Of Each Product\""
      ]
    },
    {
      "cell_type": "code",
      "execution_count": null,
      "metadata": {
        "id": "CgSCYXNN_Vh8"
      },
      "outputs": [],
      "source": [
        "# Load the data from the CSV file named 'amazon_products.csv' into a DataFrame\n",
        "data = pd.read_csv(\"amazon_products.csv\")\n",
        "\n",
        "# Setting up the figure size for the plot based on the fig_size variable\n",
        "plt.figure(figsize=fig_size)\n",
        "\n",
        "# Using the \"viridis\" color palette from Seaborn to style the bars with a gradient color scheme\n",
        "sns.set_palette(\"viridis\")\n",
        "\n",
        "# Generate a sequence of numerical indices for each product to use as x-axis labels\n",
        "indices = np.arange(len(data))\n",
        "\n",
        "# Create a bar chart where:\n",
        "# - x-axis represents product indices\n",
        "# - y-axis represents product prices from the 'PRICE' column\n",
        "# - each bar is colored using the 'viridis' color palette\n",
        "bars = plt.bar(indices, data['PRICE'], color=sns.color_palette(\"viridis\", len(data)))\n",
        "\n",
        "# Adding labels above each bar to display the price of each product\n",
        "for i, bar in enumerate(bars):\n",
        "    # Calculate the x and y coordinates for the label:\n",
        "    # - x: place the label at the center of the bar\n",
        "    # - y: position the label just above the height of the bar\n",
        "    x = bar.get_x() + bar.get_width() / 2\n",
        "    y = bar.get_height()\n",
        "\n",
        "    # Format the price with a rupee symbol, commas, and two decimal places\n",
        "    price_label = f'₹{bar.get_height():,.2f}'\n",
        "\n",
        "    # Add the price label text above the bar with:\n",
        "    # - horizontal alignment at the center (ha='center')\n",
        "    # - vertical alignment at the bottom (va='bottom')\n",
        "    # - specified font size (font_size) for readability\n",
        "    plt.text(x, y, price_label,\n",
        "             ha='center', va='bottom', fontsize=10,\n",
        "             rotation=0)  # rotation=0 ensures horizontal text\n",
        "\n",
        "# Set x-axis label to 'PRODUCT ID' with font size 15 for clarity\n",
        "plt.xlabel('PRODUCT ID', fontsize=15)\n",
        "\n",
        "# Set y-axis label to 'PRICE' with font size 15 for clarity\n",
        "plt.ylabel('PRICE', fontsize=15)\n",
        "\n",
        "# Set the title of the plot with a larger font size for emphasis\n",
        "plt.title(\"Price Distribution of Each Product\", fontsize=20)\n",
        "\n",
        "# Map the 'PRODUCT ID' column to the x-axis tick labels, positioning them at each index\n",
        "# Rotate labels by 45 degrees and align them to the right to prevent overlap\n",
        "plt.xticks(indices, data['PRODUCT ID'], rotation=45, ha='right', fontsize=10)\n",
        "\n",
        "# Disable grid lines on the plot for a cleaner look\n",
        "plt.grid(False)\n",
        "\n",
        "# Adjust the layout to ensure there is enough spacing to prevent label overlap\n",
        "plt.tight_layout()\n",
        "\n",
        "# Display the plot in the notebook or environment\n",
        "plt.show()\n",
        "\n",
        "# Save the figure as a PNG file named 'price_distribution.png'\n",
        "# - dpi=300 for high-quality resolution\n",
        "# - bbox_inches='tight' to fit all elements within the saved image\n",
        "plt.savefig('price_distribution.png', dpi=300, bbox_inches='tight')\n"
      ]
    },
    {
      "cell_type": "markdown",
      "metadata": {
        "id": "O6YgVyTKrkFX"
      },
      "source": [
        "# Representing Visualization \"Product Vs Number Of Reviews\""
      ]
    },
    {
      "cell_type": "code",
      "execution_count": null,
      "metadata": {
        "id": "zxJm0XJa_YX7"
      },
      "outputs": [],
      "source": [
        "# Reading the CSV file containing Amazon product data into a DataFrame\n",
        "data = pd.read_csv(\"amazon_products.csv\")\n",
        "\n",
        "# Converting the 'NUMBER OF REVIEWS' column to numeric values, and setting invalid values to NaN\n",
        "data['NUMBER OF REVIEWS'] = pd.to_numeric(data['NUMBER OF REVIEWS'], errors='coerce')\n",
        "\n",
        "# Handling missing or NaN values in the 'PRODUCT NAME' column:\n",
        "# - Filling NaN values with \"Unknown Product\" for better readability\n",
        "# - Converting all product names to strings and removing leading/trailing spaces\n",
        "data['PRODUCT NAME'] = data['PRODUCT NAME'].fillna(\"Unknown Product\").astype(str).str.strip()\n",
        "\n",
        "# Sorting the DataFrame by the 'NUMBER OF REVIEWS' column in descending order for better visualization\n",
        "data = data.sort_values(by='NUMBER OF REVIEWS', ascending=False)\n",
        "\n",
        "# Limiting the number of products to plot if needed\n",
        "limit = len(data)  # Plot all products\n",
        "data_subset = data.head(limit)  # Select the top `limit` products for plotting\n",
        "\n",
        "# Setting up numerical indices for the x-axis to correspond with product names\n",
        "x_indices = np.arange(len(data_subset))\n",
        "\n",
        "# Setting up the figure size for the plot based on the fig_size variable\n",
        "plt.figure(figsize=fig_size)\n",
        "\n",
        "# Plotting the line plot with blue markers ('bo-') for each product's number of reviews:\n",
        "# - `x_indices` provides x-axis positions for each product\n",
        "# - `data_subset['NUMBER OF REVIEWS']` represents the y-values (number of reviews)\n",
        "plt.plot(x_indices, data_subset['NUMBER OF REVIEWS'], 'bo-', linewidth=1)\n",
        "\n",
        "# Adding a filled area under the line plot for visual effect:\n",
        "# - Color is set to light blue with partial transparency (alpha=0.5)\n",
        "plt.fill_between(x_indices, data_subset['NUMBER OF REVIEWS'], color='lightblue', alpha=0.5)\n",
        "\n",
        "# Setting the plot's title, x-axis label, and y-axis label with specified font sizes\n",
        "plt.title('Products vs Number of Reviews (Line Plot)', fontsize=20)\n",
        "plt.xlabel('PRODUCT NAME', fontsize=15)\n",
        "plt.ylabel('NUMBER OF REVIEWS', fontsize=15)\n",
        "\n",
        "# Mapping product names to the x-axis ticks at each numerical index:\n",
        "# - Rotating labels by 45 degrees for readability\n",
        "# - Aligning labels to the right\n",
        "plt.xticks(x_indices, data_subset['PRODUCT NAME'], rotation=45, ha='right', fontsize=10)\n",
        "\n",
        "# Adding data labels to each point on the line plot to show the number of reviews\n",
        "for i, review_count in enumerate(data_subset['NUMBER OF REVIEWS']):\n",
        "    # Adding the annotation at each point:\n",
        "    # - `xy` is the point location\n",
        "    # - `xytext` specifies the offset above each point for the label\n",
        "    plt.annotate(f'{review_count}', (i, review_count), textcoords=\"offset points\", xytext=(0, 5), ha='center')\n",
        "\n",
        "# Adjusting layout to prevent label and title overlap\n",
        "plt.tight_layout()\n",
        "\n",
        "# Enabling grid lines for better readability of data points\n",
        "plt.grid(True)\n",
        "\n",
        "# Displaying the line plot\n",
        "plt.show()\n",
        "\n",
        "# Saving the figure as a PNG file named 'reviews_distribution.png'\n",
        "# - dpi=300 for high resolution\n",
        "# - bbox_inches='tight' ensures all plot elements fit within the image boundaries\n",
        "plt.savefig('reviews_distribution.png', dpi=300, bbox_inches='tight')"
      ]
    },
    {
      "cell_type": "markdown",
      "metadata": {
        "id": "1V308Fm_sJSI"
      },
      "source": [
        "# Representing Visualization \"Rating Distribution Of Each Product\""
      ]
    },
    {
      "cell_type": "code",
      "execution_count": null,
      "metadata": {
        "id": "e4ibFYNo_bHA"
      },
      "outputs": [],
      "source": [
        "# Load the data from the CSV file\n",
        "data = pd.read_csv('amazon_products.csv')\n",
        "\n",
        "# Convert the 'RATING' column to string type before applying string operations.\n",
        "# This helps handle any non-numeric values, like \"N/A,\" to avoid errors during extraction.\n",
        "data['RATING'] = data['RATING'].astype(str)\n",
        "\n",
        "# Extract only the rating number (before \"out of\") and convert it to a numeric type.\n",
        "# The regular expression `r'(\\d+\\.\\d+)'` captures decimal ratings (e.g., extracts \"4.5\" from \"4.5 out of 5\").\n",
        "data['RATING'] = data['RATING'].str.extract(r'(\\d+\\.\\d+)').astype(float)\n",
        "\n",
        "# Count the occurrences of each rating value.\n",
        "# `value_counts()` tallies each unique rating, and `sort_index()` arranges them in ascending order.\n",
        "rating_counts = data['RATING'].value_counts().sort_index()\n",
        "\n",
        "# Set the Seaborn color palette to 'pastel' for a visually appealing, contrasting pie chart.\n",
        "sns.set_palette(\"pastel\")\n",
        "\n",
        "# Create the pie chart figure with the specified figure size (`fig_size`).\n",
        "plt.figure(figsize=fig_size)\n",
        "\n",
        "# Generate a color palette based on the number of unique ratings.\n",
        "# This ensures each rating segment has a unique pastel color.\n",
        "colors = sns.color_palette(\"pastel\", n_colors=len(rating_counts))\n",
        "\n",
        "# Plot the pie chart with improved labels, percentage display, and segment borders.\n",
        "plt.pie(rating_counts,\n",
        "        labels=[f'Rating: {x} ({y} products)' for x, y in zip(rating_counts.index, rating_counts)],  # Label format\n",
        "        autopct='%1.1f%%',  # Display percentage with one decimal point\n",
        "        startangle=90,  # Start the pie chart rotation from the top\n",
        "        colors=colors,  # Use Seaborn's pastel color palette for segment colors\n",
        "        textprops={'fontsize': 12, 'color': 'black'},  # Text properties: font size and color\n",
        "        wedgeprops={'edgecolor': 'black', 'linewidth': 0.25})  # Borders around each pie segment\n",
        "\n",
        "# Add a title to the pie chart with larger font size for readability.\n",
        "plt.title('Rating Distribution Across Products', fontsize=20)\n",
        "\n",
        "# Ensure the pie chart is drawn as a circle.\n",
        "plt.axis('equal')\n",
        "\n",
        "# Display the pie chart on the screen.\n",
        "plt.show()\n",
        "\n",
        "# Save the figure as a PNG file named 'rating_distribution.png' for high-resolution output.\n",
        "# `dpi=300` for quality, and `bbox_inches='tight'` to ensure nothing is cropped.\n",
        "plt.savefig('rating_distribution.png', dpi=300, bbox_inches='tight')"
      ]
    },
    {
      "cell_type": "markdown",
      "metadata": {
        "id": "-8-ljw8ZsSEo"
      },
      "source": [
        "# Representing Visualization \"Top 20 Most Expensive Products Based on Price\""
      ]
    },
    {
      "cell_type": "code",
      "execution_count": null,
      "metadata": {
        "id": "xBgJlI8p_eYI"
      },
      "outputs": [],
      "source": [
        "# Load the data from the CSV file\n",
        "df = pd.read_csv(\"amazon_products.csv\")\n",
        "\n",
        "# Get the top 20 products sorted by price in descending order\n",
        "# `sort_values(by=['PRICE'], ascending=False)` sorts the data in descending order by the 'PRICE' column,\n",
        "# and `head(20)` selects the top 20 rows.\n",
        "top_products_by_price = df.sort_values(by=['PRICE'], ascending=False).head(20)\n",
        "\n",
        "# Plotting a bar chart for the top 20 products based on price, in descending order.\n",
        "plt.figure(figsize=fig_size)  # Set the figure size for the chart\n",
        "\n",
        "# Create a barplot with prices on the x-axis and product names on the y-axis\n",
        "bars = sns.barplot(\n",
        "    x=top_products_by_price['PRICE'],  # X-axis shows the prices of the products\n",
        "    y=top_products_by_price['PRODUCT NAME'],  # Y-axis shows the product names\n",
        "    palette='viridis',  # Use the 'viridis' color palette for visual appeal\n",
        "    hue=top_products_by_price['PRICE'],  # Color gradient based on product prices\n",
        "    dodge=False,  # Set dodge to False since we need only one bar per product\n",
        "    legend=False  # Remove the legend since color gradient is used only for visualization\n",
        ")\n",
        "\n",
        "# Track the bars that already have a label\n",
        "labeled_bars = set()\n",
        "\n",
        "# Add labels to each bar in the bar chart to display product prices\n",
        "for bar in bars.patches:\n",
        "    # Get the width (price) and height of each bar\n",
        "    width = bar.get_width()\n",
        "    height = bar.get_height()\n",
        "\n",
        "    # Check if the bar has been labeled already\n",
        "    if bar.get_y() not in labeled_bars:\n",
        "        # Calculate position for the label to display price on the right side of the bar\n",
        "        offset_x = 0.025 * width  # Adjust this multiplier to control spacing from the bar\n",
        "        x = width + offset_x  # Slightly offset the label from the bar\n",
        "        y = bar.get_y() + height / 2  # Center the label vertically within the bar\n",
        "\n",
        "        # Format the price label with commas for thousands and two decimal places\n",
        "        price_label = f'₹{width:,.2f}'\n",
        "\n",
        "        # Add the text label to the chart with adjusted horizontal alignment and vertical alignment\n",
        "        plt.text(x, y, price_label, ha='left', va='center', fontsize=10)\n",
        "\n",
        "        # Mark this bar as labeled\n",
        "        labeled_bars.add(bar.get_y())\n",
        "\n",
        "# Label and format the chart for clarity\n",
        "plt.xlabel(\"Price (in ₹)\", fontsize=15)  # Label the x-axis\n",
        "plt.ylabel(\"Product Name\", fontsize=15)  # Label the y-axis\n",
        "plt.title(\"Top Most Expensive Products Based on Price\", fontsize=20)  # Title for the bar chart\n",
        "plt.yticks(rotation=45, ha='right')  # Rotate y-axis labels for readability\n",
        "\n",
        "# Display the plot on screen\n",
        "plt.show()\n",
        "\n",
        "# Save the figure as a PNG file named 'top_most_expensive_products.png' with high resolution\n",
        "# `dpi=300` for quality and `bbox_inches='tight'` to ensure nothing is cropped.\n",
        "plt.savefig('top_most_expensive_products.png', dpi=300, bbox_inches='tight')\n"
      ]
    },
    {
      "cell_type": "markdown",
      "metadata": {
        "id": "fyOdUx-isi9I"
      },
      "source": [
        "# Representing Visualization \"Bottom 20 Least Expensive Products Based on Price\""
      ]
    },
    {
      "cell_type": "code",
      "execution_count": null,
      "metadata": {
        "id": "wncsQKlr_hEO"
      },
      "outputs": [],
      "source": [
        "# Load the data from the CSV file\n",
        "df = pd.read_csv(\"amazon_products.csv\")\n",
        "\n",
        "# Get the bottom 20 products sorted by price in ascending order\n",
        "bottom_products_by_price = df.sort_values(by=['PRICE'], ascending=True).head(20)\n",
        "\n",
        "# Plotting a bar chart for bottom 20 products based on price, sorted in ascending order\n",
        "plt.figure(figsize=fig_size)  # Set the figure size\n",
        "bars = sns.barplot(\n",
        "    x=bottom_products_by_price['PRICE'],  # X-axis: Price of the products\n",
        "    y=bottom_products_by_price['PRODUCT NAME'],  # Y-axis: Product names\n",
        "    palette='viridis',  # Color palette for the bars\n",
        "    hue=bottom_products_by_price['PRICE'],  # Use PRICE for the color gradient\n",
        "    dodge=False,  # Do not dodge the bars (only one bar per product)\n",
        "    legend=False  # Remove the legend since hue is used only for color gradient\n",
        ")\n",
        "\n",
        "# Iterating through bars and adding labels\n",
        "for bar in bars.patches:\n",
        "    # Get bar width and height\n",
        "    width = bar.get_width()\n",
        "    height = bar.get_height()\n",
        "\n",
        "    # Calculate x and y position for the label\n",
        "    x = width + 0.1  # Add a small offset to position label outside the bar\n",
        "    y = bar.get_y() + height / 2  # Vertically center the label\n",
        "\n",
        "    # Format the price value with commas and 2 decimal places\n",
        "    price_label = f'₹{width:,.2f}'\n",
        "\n",
        "    # Add the text label\n",
        "    plt.text(x, y, price_label, ha='left', va='center', fontsize=10)\n",
        "\n",
        "# Labeling and formatting the chart\n",
        "plt.xlabel(\"Price (in ₹)\",fontsize=15)  # X-axis label for price\n",
        "plt.ylabel(\"Product Name\",fontsize=15)  # Y-axis label for product names\n",
        "plt.title(\"Bottom Least Expensive Products Based on Price\",fontsize=20)  # Title of the chart\n",
        "plt.yticks(rotation=45, ha='right')  # Rotate the y-axis labels for better readability\n",
        "plt.show()  # Display the plot\n",
        "\n",
        "# Save the figure in PNG file Format\n",
        "plt.savefig('bottom_least_expensive_products.png', dpi=300, bbox_inches='tight')\n"
      ]
    }
  ],
  "metadata": {
    "colab": {
      "provenance": [],
      "collapsed_sections": [
        "ySH_Xv61p1Pd",
        "EPkuqdIFp8NK",
        "5exI9LFdp-1I",
        "gqkEmlBtqEMQ",
        "9caCulujqKGj",
        "ooaYBEB5__QO",
        "YosswOgRrJWM",
        "sReMxQ7LrOVP",
        "O6YgVyTKrkFX",
        "1V308Fm_sJSI",
        "-8-ljw8ZsSEo",
        "fyOdUx-isi9I"
      ]
    },
    "kernelspec": {
      "display_name": "Python 3",
      "name": "python3"
    },
    "language_info": {
      "name": "python"
    }
  },
  "nbformat": 4,
  "nbformat_minor": 0
}